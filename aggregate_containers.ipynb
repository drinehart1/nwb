{
 "cells": [
  {
   "cell_type": "markdown",
   "source": [
    "Performed for extracellular electro-physiology experimental data\n",
    "Data provided via Google Drive in folder: In vivo recording with Devor Group\n",
    "\n",
    "Excel file provided with meta-data: DatabaseNonHumanData_SHL_20221022_MTH.xlsx\n",
    "Headers have mapping between NWB and experimental fields; and between NWB and database (usarhythms.ucsd.edu) fields\n",
    "\n"
   ],
   "metadata": {
    "collapsed": false
   }
  },
  {
   "cell_type": "code",
   "execution_count": 33,
   "outputs": [
    {
     "ename": "OSError",
     "evalue": "Unable to create file (unable to truncate a file which is already open)",
     "output_type": "error",
     "traceback": [
      "\u001B[0;31m---------------------------------------------------------------------------\u001B[0m",
      "\u001B[0;31mOSError\u001B[0m                                   Traceback (most recent call last)",
      "Input \u001B[0;32mIn [33]\u001B[0m, in \u001B[0;36m<cell line: 23>\u001B[0;34m()\u001B[0m\n\u001B[1;32m     20\u001B[0m out_filename \u001B[38;5;241m=\u001B[39m \u001B[38;5;28mstr\u001B[39m(consolidated_output_file) \u001B[38;5;241m+\u001B[39m \u001B[38;5;124m'\u001B[39m\u001B[38;5;124m.nwb\u001B[39m\u001B[38;5;124m'\u001B[39m\n\u001B[1;32m     21\u001B[0m dest_file \u001B[38;5;241m=\u001B[39m \u001B[38;5;28mstr\u001B[39m(Path(dest_path, out_filename))\n\u001B[0;32m---> 23\u001B[0m \u001B[38;5;28;01mwith\u001B[39;00m \u001B[43mNWBHDF5IO\u001B[49m\u001B[43m(\u001B[49m\u001B[43mdest_file\u001B[49m\u001B[43m,\u001B[49m\u001B[43m \u001B[49m\u001B[38;5;124;43m'\u001B[39;49m\u001B[38;5;124;43mw\u001B[39;49m\u001B[38;5;124;43m'\u001B[39;49m\u001B[43m)\u001B[49m \u001B[38;5;28;01mas\u001B[39;00m io:\n\u001B[1;32m     24\u001B[0m     io\u001B[38;5;241m.\u001B[39mwrite(nwbfile)\n\u001B[1;32m     26\u001B[0m io \u001B[38;5;241m=\u001B[39m NWBHDF5IO(dest_file, mode\u001B[38;5;241m=\u001B[39m\u001B[38;5;124m\"\u001B[39m\u001B[38;5;124ma\u001B[39m\u001B[38;5;124m\"\u001B[39m)\n",
      "File \u001B[0;32m/opt/pipeline38/lib/python3.8/site-packages/hdmf/utils.py:639\u001B[0m, in \u001B[0;36mdocval.<locals>.dec.<locals>.func_call\u001B[0;34m(*args, **kwargs)\u001B[0m\n\u001B[1;32m    637\u001B[0m \u001B[38;5;28;01mdef\u001B[39;00m \u001B[38;5;21mfunc_call\u001B[39m(\u001B[38;5;241m*\u001B[39margs, \u001B[38;5;241m*\u001B[39m\u001B[38;5;241m*\u001B[39mkwargs):\n\u001B[1;32m    638\u001B[0m     pargs \u001B[38;5;241m=\u001B[39m _check_args(args, kwargs)\n\u001B[0;32m--> 639\u001B[0m     \u001B[38;5;28;01mreturn\u001B[39;00m \u001B[43mfunc\u001B[49m\u001B[43m(\u001B[49m\u001B[43margs\u001B[49m\u001B[43m[\u001B[49m\u001B[38;5;241;43m0\u001B[39;49m\u001B[43m]\u001B[49m\u001B[43m,\u001B[49m\u001B[43m \u001B[49m\u001B[38;5;241;43m*\u001B[39;49m\u001B[38;5;241;43m*\u001B[39;49m\u001B[43mpargs\u001B[49m\u001B[43m)\u001B[49m\n",
      "File \u001B[0;32m/opt/pipeline38/lib/python3.8/site-packages/pynwb/__init__.py:246\u001B[0m, in \u001B[0;36mNWBHDF5IO.__init__\u001B[0;34m(self, **kwargs)\u001B[0m\n\u001B[1;32m    244\u001B[0m     \u001B[38;5;28;01melif\u001B[39;00m manager \u001B[38;5;129;01mis\u001B[39;00m \u001B[38;5;28;01mNone\u001B[39;00m:\n\u001B[1;32m    245\u001B[0m         manager \u001B[38;5;241m=\u001B[39m get_manager()\n\u001B[0;32m--> 246\u001B[0m \u001B[38;5;28;43msuper\u001B[39;49m\u001B[43m(\u001B[49m\u001B[43m)\u001B[49m\u001B[38;5;241;43m.\u001B[39;49m\u001B[38;5;21;43m__init__\u001B[39;49m\u001B[43m(\u001B[49m\u001B[43mpath\u001B[49m\u001B[43m,\u001B[49m\u001B[43m \u001B[49m\u001B[43mmanager\u001B[49m\u001B[38;5;241;43m=\u001B[39;49m\u001B[43mmanager\u001B[49m\u001B[43m,\u001B[49m\u001B[43m \u001B[49m\u001B[43mmode\u001B[49m\u001B[38;5;241;43m=\u001B[39;49m\u001B[43mmode\u001B[49m\u001B[43m,\u001B[49m\u001B[43m \u001B[49m\u001B[43mfile\u001B[49m\u001B[38;5;241;43m=\u001B[39;49m\u001B[43mfile_obj\u001B[49m\u001B[43m,\u001B[49m\u001B[43m \u001B[49m\u001B[43mcomm\u001B[49m\u001B[38;5;241;43m=\u001B[39;49m\u001B[43mcomm\u001B[49m\u001B[43m,\u001B[49m\u001B[43m \u001B[49m\u001B[43mdriver\u001B[49m\u001B[38;5;241;43m=\u001B[39;49m\u001B[43mdriver\u001B[49m\u001B[43m)\u001B[49m\n",
      "File \u001B[0;32m/opt/pipeline38/lib/python3.8/site-packages/hdmf/utils.py:639\u001B[0m, in \u001B[0;36mdocval.<locals>.dec.<locals>.func_call\u001B[0;34m(*args, **kwargs)\u001B[0m\n\u001B[1;32m    637\u001B[0m \u001B[38;5;28;01mdef\u001B[39;00m \u001B[38;5;21mfunc_call\u001B[39m(\u001B[38;5;241m*\u001B[39margs, \u001B[38;5;241m*\u001B[39m\u001B[38;5;241m*\u001B[39mkwargs):\n\u001B[1;32m    638\u001B[0m     pargs \u001B[38;5;241m=\u001B[39m _check_args(args, kwargs)\n\u001B[0;32m--> 639\u001B[0m     \u001B[38;5;28;01mreturn\u001B[39;00m \u001B[43mfunc\u001B[49m\u001B[43m(\u001B[49m\u001B[43margs\u001B[49m\u001B[43m[\u001B[49m\u001B[38;5;241;43m0\u001B[39;49m\u001B[43m]\u001B[49m\u001B[43m,\u001B[49m\u001B[43m \u001B[49m\u001B[38;5;241;43m*\u001B[39;49m\u001B[38;5;241;43m*\u001B[39;49m\u001B[43mpargs\u001B[49m\u001B[43m)\u001B[49m\n",
      "File \u001B[0;32m/opt/pipeline38/lib/python3.8/site-packages/hdmf/backends/hdf5/h5tools.py:85\u001B[0m, in \u001B[0;36mHDF5IO.__init__\u001B[0;34m(self, **kwargs)\u001B[0m\n\u001B[1;32m     83\u001B[0m \u001B[38;5;28mself\u001B[39m\u001B[38;5;241m.\u001B[39m__mode \u001B[38;5;241m=\u001B[39m mode\n\u001B[1;32m     84\u001B[0m \u001B[38;5;28mself\u001B[39m\u001B[38;5;241m.\u001B[39m__file \u001B[38;5;241m=\u001B[39m file_obj\n\u001B[0;32m---> 85\u001B[0m \u001B[38;5;28;43msuper\u001B[39;49m\u001B[43m(\u001B[49m\u001B[43m)\u001B[49m\u001B[38;5;241;43m.\u001B[39;49m\u001B[38;5;21;43m__init__\u001B[39;49m\u001B[43m(\u001B[49m\u001B[43mmanager\u001B[49m\u001B[43m,\u001B[49m\u001B[43m \u001B[49m\u001B[43msource\u001B[49m\u001B[38;5;241;43m=\u001B[39;49m\u001B[43mpath\u001B[49m\u001B[43m)\u001B[49m\n\u001B[1;32m     86\u001B[0m \u001B[38;5;28mself\u001B[39m\u001B[38;5;241m.\u001B[39m__built \u001B[38;5;241m=\u001B[39m \u001B[38;5;28mdict\u001B[39m()       \u001B[38;5;66;03m# keep track of each builder for each dataset/group/link for each file\u001B[39;00m\n\u001B[1;32m     87\u001B[0m \u001B[38;5;28mself\u001B[39m\u001B[38;5;241m.\u001B[39m__read \u001B[38;5;241m=\u001B[39m \u001B[38;5;28mdict\u001B[39m()        \u001B[38;5;66;03m# keep track of which files have been read. Key is the filename value is the builder\u001B[39;00m\n",
      "File \u001B[0;32m/opt/pipeline38/lib/python3.8/site-packages/hdmf/utils.py:639\u001B[0m, in \u001B[0;36mdocval.<locals>.dec.<locals>.func_call\u001B[0;34m(*args, **kwargs)\u001B[0m\n\u001B[1;32m    637\u001B[0m \u001B[38;5;28;01mdef\u001B[39;00m \u001B[38;5;21mfunc_call\u001B[39m(\u001B[38;5;241m*\u001B[39margs, \u001B[38;5;241m*\u001B[39m\u001B[38;5;241m*\u001B[39mkwargs):\n\u001B[1;32m    638\u001B[0m     pargs \u001B[38;5;241m=\u001B[39m _check_args(args, kwargs)\n\u001B[0;32m--> 639\u001B[0m     \u001B[38;5;28;01mreturn\u001B[39;00m \u001B[43mfunc\u001B[49m\u001B[43m(\u001B[49m\u001B[43margs\u001B[49m\u001B[43m[\u001B[49m\u001B[38;5;241;43m0\u001B[39;49m\u001B[43m]\u001B[49m\u001B[43m,\u001B[49m\u001B[43m \u001B[49m\u001B[38;5;241;43m*\u001B[39;49m\u001B[38;5;241;43m*\u001B[39;49m\u001B[43mpargs\u001B[49m\u001B[43m)\u001B[49m\n",
      "File \u001B[0;32m/opt/pipeline38/lib/python3.8/site-packages/hdmf/backends/io.py:23\u001B[0m, in \u001B[0;36mHDMFIO.__init__\u001B[0;34m(self, **kwargs)\u001B[0m\n\u001B[1;32m     21\u001B[0m \u001B[38;5;28mself\u001B[39m\u001B[38;5;241m.\u001B[39m__built \u001B[38;5;241m=\u001B[39m \u001B[38;5;28mdict\u001B[39m()\n\u001B[1;32m     22\u001B[0m \u001B[38;5;28mself\u001B[39m\u001B[38;5;241m.\u001B[39m__source \u001B[38;5;241m=\u001B[39m source\n\u001B[0;32m---> 23\u001B[0m \u001B[38;5;28;43mself\u001B[39;49m\u001B[38;5;241;43m.\u001B[39;49m\u001B[43mopen\u001B[49m\u001B[43m(\u001B[49m\u001B[43m)\u001B[49m\n",
      "File \u001B[0;32m/opt/pipeline38/lib/python3.8/site-packages/hdmf/backends/hdf5/h5tools.py:729\u001B[0m, in \u001B[0;36mHDF5IO.open\u001B[0;34m(self)\u001B[0m\n\u001B[1;32m    726\u001B[0m \u001B[38;5;28;01mif\u001B[39;00m \u001B[38;5;28mself\u001B[39m\u001B[38;5;241m.\u001B[39mdriver \u001B[38;5;129;01mis\u001B[39;00m \u001B[38;5;129;01mnot\u001B[39;00m \u001B[38;5;28;01mNone\u001B[39;00m:\n\u001B[1;32m    727\u001B[0m     kwargs\u001B[38;5;241m.\u001B[39mupdate(driver\u001B[38;5;241m=\u001B[39m\u001B[38;5;28mself\u001B[39m\u001B[38;5;241m.\u001B[39mdriver)\n\u001B[0;32m--> 729\u001B[0m \u001B[38;5;28mself\u001B[39m\u001B[38;5;241m.\u001B[39m__file \u001B[38;5;241m=\u001B[39m \u001B[43mFile\u001B[49m\u001B[43m(\u001B[49m\u001B[38;5;28;43mself\u001B[39;49m\u001B[38;5;241;43m.\u001B[39;49m\u001B[43msource\u001B[49m\u001B[43m,\u001B[49m\u001B[43m \u001B[49m\u001B[43mopen_flag\u001B[49m\u001B[43m,\u001B[49m\u001B[43m \u001B[49m\u001B[38;5;241;43m*\u001B[39;49m\u001B[38;5;241;43m*\u001B[39;49m\u001B[43mkwargs\u001B[49m\u001B[43m)\u001B[49m\n",
      "File \u001B[0;32m/opt/pipeline38/lib/python3.8/site-packages/h5py/_hl/files.py:406\u001B[0m, in \u001B[0;36mFile.__init__\u001B[0;34m(self, name, mode, driver, libver, userblock_size, swmr, rdcc_nslots, rdcc_nbytes, rdcc_w0, track_order, **kwds)\u001B[0m\n\u001B[1;32m    404\u001B[0m \u001B[38;5;28;01mwith\u001B[39;00m phil:\n\u001B[1;32m    405\u001B[0m     fapl \u001B[38;5;241m=\u001B[39m make_fapl(driver, libver, rdcc_nslots, rdcc_nbytes, rdcc_w0, \u001B[38;5;241m*\u001B[39m\u001B[38;5;241m*\u001B[39mkwds)\n\u001B[0;32m--> 406\u001B[0m     fid \u001B[38;5;241m=\u001B[39m \u001B[43mmake_fid\u001B[49m\u001B[43m(\u001B[49m\u001B[43mname\u001B[49m\u001B[43m,\u001B[49m\u001B[43m \u001B[49m\u001B[43mmode\u001B[49m\u001B[43m,\u001B[49m\u001B[43m \u001B[49m\u001B[43muserblock_size\u001B[49m\u001B[43m,\u001B[49m\n\u001B[1;32m    407\u001B[0m \u001B[43m                   \u001B[49m\u001B[43mfapl\u001B[49m\u001B[43m,\u001B[49m\u001B[43m \u001B[49m\u001B[43mfcpl\u001B[49m\u001B[38;5;241;43m=\u001B[39;49m\u001B[43mmake_fcpl\u001B[49m\u001B[43m(\u001B[49m\u001B[43mtrack_order\u001B[49m\u001B[38;5;241;43m=\u001B[39;49m\u001B[43mtrack_order\u001B[49m\u001B[43m)\u001B[49m\u001B[43m,\u001B[49m\n\u001B[1;32m    408\u001B[0m \u001B[43m                   \u001B[49m\u001B[43mswmr\u001B[49m\u001B[38;5;241;43m=\u001B[39;49m\u001B[43mswmr\u001B[49m\u001B[43m)\u001B[49m\n\u001B[1;32m    410\u001B[0m \u001B[38;5;28;01mif\u001B[39;00m \u001B[38;5;28misinstance\u001B[39m(libver, \u001B[38;5;28mtuple\u001B[39m):\n\u001B[1;32m    411\u001B[0m     \u001B[38;5;28mself\u001B[39m\u001B[38;5;241m.\u001B[39m_libver \u001B[38;5;241m=\u001B[39m libver\n",
      "File \u001B[0;32m/opt/pipeline38/lib/python3.8/site-packages/h5py/_hl/files.py:179\u001B[0m, in \u001B[0;36mmake_fid\u001B[0;34m(name, mode, userblock_size, fapl, fcpl, swmr)\u001B[0m\n\u001B[1;32m    177\u001B[0m     fid \u001B[38;5;241m=\u001B[39m h5f\u001B[38;5;241m.\u001B[39mcreate(name, h5f\u001B[38;5;241m.\u001B[39mACC_EXCL, fapl\u001B[38;5;241m=\u001B[39mfapl, fcpl\u001B[38;5;241m=\u001B[39mfcpl)\n\u001B[1;32m    178\u001B[0m \u001B[38;5;28;01melif\u001B[39;00m mode \u001B[38;5;241m==\u001B[39m \u001B[38;5;124m'\u001B[39m\u001B[38;5;124mw\u001B[39m\u001B[38;5;124m'\u001B[39m:\n\u001B[0;32m--> 179\u001B[0m     fid \u001B[38;5;241m=\u001B[39m \u001B[43mh5f\u001B[49m\u001B[38;5;241;43m.\u001B[39;49m\u001B[43mcreate\u001B[49m\u001B[43m(\u001B[49m\u001B[43mname\u001B[49m\u001B[43m,\u001B[49m\u001B[43m \u001B[49m\u001B[43mh5f\u001B[49m\u001B[38;5;241;43m.\u001B[39;49m\u001B[43mACC_TRUNC\u001B[49m\u001B[43m,\u001B[49m\u001B[43m \u001B[49m\u001B[43mfapl\u001B[49m\u001B[38;5;241;43m=\u001B[39;49m\u001B[43mfapl\u001B[49m\u001B[43m,\u001B[49m\u001B[43m \u001B[49m\u001B[43mfcpl\u001B[49m\u001B[38;5;241;43m=\u001B[39;49m\u001B[43mfcpl\u001B[49m\u001B[43m)\u001B[49m\n\u001B[1;32m    180\u001B[0m \u001B[38;5;28;01melif\u001B[39;00m mode \u001B[38;5;241m==\u001B[39m \u001B[38;5;124m'\u001B[39m\u001B[38;5;124ma\u001B[39m\u001B[38;5;124m'\u001B[39m:\n\u001B[1;32m    181\u001B[0m     \u001B[38;5;66;03m# Open in append mode (read/write).\u001B[39;00m\n\u001B[1;32m    182\u001B[0m     \u001B[38;5;66;03m# If that fails, create a new file only if it won't clobber an\u001B[39;00m\n\u001B[1;32m    183\u001B[0m     \u001B[38;5;66;03m# existing one (ACC_EXCL)\u001B[39;00m\n\u001B[1;32m    184\u001B[0m     \u001B[38;5;28;01mtry\u001B[39;00m:\n",
      "File \u001B[0;32mh5py/_objects.pyx:54\u001B[0m, in \u001B[0;36mh5py._objects.with_phil.wrapper\u001B[0;34m()\u001B[0m\n",
      "File \u001B[0;32mh5py/_objects.pyx:55\u001B[0m, in \u001B[0;36mh5py._objects.with_phil.wrapper\u001B[0;34m()\u001B[0m\n",
      "File \u001B[0;32mh5py/h5f.pyx:108\u001B[0m, in \u001B[0;36mh5py.h5f.create\u001B[0;34m()\u001B[0m\n",
      "\u001B[0;31mOSError\u001B[0m: Unable to create file (unable to truncate a file which is already open)"
     ]
    }
   ],
   "source": [
    "#https://pynwb.readthedocs.io/en/stable/tutorials/general/add_remove_containers.html\n",
    "\n",
    "from pathlib import Path, PurePath, PureWindowsPath\n",
    "from pynwb import NWBFile, NWBHDF5IO, TimeSeries\n",
    "import datetime\n",
    "import numpy as np\n",
    "\n",
    "base_root = '/mnt/e/temp/Devor-gdrive/'\n",
    "measurements_path = '20191017_Chronic implant_SL2701_San4/20191107_San4_day21'\n",
    "dest_path = PurePath(base_root, 'output', measurements_path)\n",
    "consolidated_output_file = dest_path.stem + '_all' #just filename without extension\n",
    "\n",
    "# first, write a test NWB file\n",
    "nwbfile = NWBFile(\n",
    "    session_description=str(dest_path.stem),\n",
    "    identifier=str(dest_path.stem),\n",
    "    session_start_time=datetime.datetime.now(datetime.timezone.utc),\n",
    ")\n",
    "\n",
    "out_filename = str(consolidated_output_file) + '.nwb'\n",
    "dest_file = str(Path(dest_path, out_filename))\n",
    "\n",
    "with NWBHDF5IO(dest_file, 'w') as io:\n",
    "    io.write(nwbfile)\n",
    "\n",
    "io = NWBHDF5IO(dest_file, mode=\"a\")\n",
    "consolidated_file = io.read()\n",
    "position = nwbfile.processing[\"behavior\"].data_interfaces[\"Position\"]\n",
    "\n",
    "print(f'OUTPUT FILE: {dest_file}')\n",
    "\n",
    "##################################################################################\n",
    "additional_nwb = 'san4_run03_optogen_N30_300au_5ms_ISI10s_centerofarray_isoflurane_191107_143024.nwb'\n",
    "add_dest_path = str(PurePath(base_root, 'output', measurements_path, additional_nwb))\n",
    "\n",
    "print(f'APPEND NWB FILE ({additional_nwb}) TO CONSOLIDATED FILE {out_filename}')\n",
    "io2 = NWBHDF5IO(add_dest_path, \"r\")\n",
    "individual_measurement_nwbfile = io2.read()\n",
    "\n",
    "##################################################################################\n",
    "\n",
    "#consolidated_file.add_acquisition(individual_measurement_nwbfile)\n",
    "\n",
    "consolidated_file.acquisition.set('ElectricalSeries', individual_measurement_nwbfile);\n",
    "#nwb.general_extracellular_ephys_electrodes\n",
    "\n",
    "io.write(consolidated_file)\n",
    "io.close()\n",
    "\n",
    "#\n",
    "#     # create a TimeSeries and add it to the file under the acquisition group\n",
    "#     data = list(range(100, 200, 10))\n",
    "#     timestamps = np.arange(10, dtype=np.float)\n",
    "#     test_ts = TimeSeries(\n",
    "#         name='test_timeseries',\n",
    "#         data=data,\n",
    "#         unit='m',\n",
    "#         timestamps=timestamps\n",
    "#     )\n",
    "#     read_nwbfile.add_acquisition(test_ts)\n",
    "#\n",
    "#     # write the modified NWB file\n",
    "#     io.write(read_nwbfile)\n",
    "#\n",
    "# # confirm the file contains the new TimeSeries in acquisition\n",
    "# with NWBHDF5IO(filename, 'r') as io:\n",
    "#     read_nwbfile = io.read()\n",
    "#     print(read_nwbfile)\n"
   ],
   "metadata": {
    "collapsed": false
   }
  },
  {
   "cell_type": "code",
   "execution_count": null,
   "outputs": [],
   "source": [],
   "metadata": {
    "collapsed": false
   }
  }
 ],
 "metadata": {
  "kernelspec": {
   "name": "pipeline38",
   "language": "python",
   "display_name": "pipeline38"
  },
  "language_info": {
   "codemirror_mode": {
    "name": "ipython",
    "version": 2
   },
   "file_extension": ".py",
   "mimetype": "text/x-python",
   "name": "python",
   "nbconvert_exporter": "python",
   "pygments_lexer": "ipython2",
   "version": "2.7.6"
  }
 },
 "nbformat": 4,
 "nbformat_minor": 0
}
