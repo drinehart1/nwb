{
 "cells": [
  {
   "cell_type": "code",
   "execution_count": 1,
   "outputs": [
    {
     "name": "stdout",
     "output_type": "stream",
     "text": [
      "root pynwb.file.NWBFile at 0x140630432307280\n",
      "Fields:\n",
      "  experimenter: ['Jacob Duckworth']\n",
      "  file_create_date: [datetime.datetime(2022, 9, 6, 11, 23, 2, 625641, tzinfo=tzlocal())]\n",
      "  identifier: Wide-field imaging of concurrent pan-neuronal activity and pial arterial smooth muscle activity across the cortical mantle during resting, stimulus, and after-stimulus time periods.\n",
      "  institution: UCSD\n",
      "  lab: David Kleinfeld\n",
      "  related_publications: ['']\n",
      "  session_description: Description\tWide-field imaging of concurrent pan-neuronal activity and pial arterial smooth muscle activity across the cortical mantle during resting, stimulus, and after-stimulus time periods\n",
      "  session_id: 08.Jun.2022_19.19.34_JD220307M3_PwrG80R80_leftphot_0.14Hz\n",
      "  session_start_time: 2022-09-06 18:23:02.624568-07:00\n",
      "  timestamps_reference_time: 2022-09-06 18:23:02.624568-07:00\n",
      "\n",
      "27320773-8d59-4336-b215-752305495469\n"
     ]
    },
    {
     "name": "stderr",
     "output_type": "stream",
     "text": [
      "/opt/pipeline38/lib/python3.8/site-packages/pynwb/file.py:1100: UserWarning: Date is missing timezone information. Updating to local timezone.\n",
      "  warn(\"Date is missing timezone information. Updating to local timezone.\")\n"
     ]
    }
   ],
   "source": [
    "# TEMPLATE: https://github.com/OpenSourceBrain/CalciumImagingDriftingGrating/blob/master/Convert.py\n",
    "# SAMPLE NOTEBOOK: https://github.com/NeurodataWithoutBorders/nwb_tutorial/blob/master/HCK08/ophys_tutorial.ipynb\n",
    "\n",
    "import glob, os\n",
    "from datetime import datetime\n",
    "from dateutil.tz import tzlocal\n",
    "import numpy as np\n",
    "import pynwb\n",
    "from pynwb.misc import AnnotationSeries\n",
    "from pynwb import NWBFile, TimeSeries, NWBHDF5IO\n",
    "from pynwb.image import ImageSeries\n",
    "from pynwb.ophys import TwoPhotonSeries, OpticalChannel, ImageSegmentation, \\\n",
    "    Fluorescence, CorrectedImageStack, MotionCorrection, RoiResponseSeries\n",
    "\n",
    "\n",
    "#REQUIRED: session_id, experiment_description, session_start_time\n",
    "# References after fields refer to DB (active_atlas_production)\n",
    "\n",
    "#PULL FROM DB\n",
    "description = 'Description\tWide-field imaging of concurrent pan-neuronal activity and pial arterial smooth muscle activity across the cortical mantle during resting, stimulus, and after-stimulus time periods' #description\n",
    "identifier = 'Wide-field imaging of concurrent pan-neuronal activity and pial arterial smooth muscle activity across the cortical mantle during resting, stimulus, and after-stimulus time periods.' #identifier\n",
    "session_start_time = datetime.utcnow() #session_start_time\n",
    "session_id = '08.Jun.2022_19.19.34_JD220307M3_PwrG80R80_leftphot_0.14Hz' #session_id\n",
    "experimenter = 'Jacob Duckworth'  #FK_annotator_id -> name(s)\n",
    "institution='UCSD' #FK_performance_lab_id -> FK_performance_center_id -> name\n",
    "doi_pub='' #doi_pub\n",
    "lab_performance_center='David Kleinfeld' #FK_performance_lab_id -> name\n",
    "\n",
    "nwbfile = NWBFile(\n",
    "    identifier=identifier,\n",
    "    session_description=description,\n",
    "    session_start_time=session_start_time,\n",
    "    session_id=session_id,\n",
    "    experimenter=experimenter,\n",
    "    institution=institution,\n",
    "    related_publications=doi_pub,\n",
    "    lab=lab_performance_center,\n",
    ")\n",
    "print(nwbfile)\n",
    "print(nwbfile.object_id)\n",
    "\n",
    "#PUSH TO DB\n",
    "objectid_uuid = nwbfile.object_id"
   ],
   "metadata": {
    "collapsed": false,
    "pycharm": {
     "name": "#%%\n"
    }
   }
  },
  {
   "cell_type": "code",
   "execution_count": 17,
   "outputs": [],
   "source": [
    "#EXPERIMENTAL SUBJECT - OPTIONAL\n",
    "from pynwb.file import Subject\n",
    "\n",
    "species = 'Mus musculus - NCBI:txid10090' #species -> latin  + NCBI (MOUSE = 'Mus musculus - NCBI:txid10090')\n",
    "exp_description = '' #animal.comments\n",
    "subject_id = 'JD220307M3' #animal.id\n",
    "age = 'P93D' #experiment_date - animal.date_of_birth? ;ref: #https://en.wikipedia.org/wiki/ISO_8601#Durations\n",
    "date_of_birth = ''\n",
    "sex = 'M' #animal.sex\n",
    "genotype = 'B6.Cg-Tg(Acta2-GCaMP8.1/mVermilion)B34-4Mik/J x Tg(Thy1-jRGECO1a)GP8.20Dkim/J' #animal.genotype (mother/father)\n",
    "\n",
    "nwbfile.subject = Subject(\n",
    "    subject_id=subject_id,\n",
    "    age=age,\n",
    "    description=exp_description,\n",
    "    species=species,\n",
    "    genotype=genotype,\n",
    "    sex=sex\n",
    ")"
   ],
   "metadata": {
    "collapsed": false,
    "pycharm": {
     "name": "#%%\n"
    }
   }
  },
  {
   "cell_type": "code",
   "execution_count": 18,
   "outputs": [],
   "source": [
    "#BEHAVIOR & PHYSIOLOGICAL MEASUREMENTS (surgery) - OPTIONAL\n",
    "from pynwb.file import NWBFile\n",
    "\n",
    "surgery = '2 hemisphere thin-skull window'\n",
    "pharmacology = ''\n",
    "PupilCamera = True\n",
    "BodyCamera = True\n",
    "Accelerometer_description = 'Yes, in hammock under animal'\n",
    "experiment_description = f'PupilCamera = {PupilCamera}; BodyCamera = {BodyCamera}; Accelerometer_description: {Accelerometer_description}'\n",
    "\n",
    "stimulus_notes = 'Left eye light pulses at 0.14 Hz, 2 second pulse length, 10ms on/off bursts'\n",
    "\n",
    "nwbfile.file = NWBFile(\n",
    "    surgery=surgery,\n",
    "    pharmacology=pharmacology,\n",
    "    identifier=identifier,\n",
    "    session_description=description,\n",
    "    session_start_time=session_start_time,\n",
    "    session_id=session_id,\n",
    "    experimenter=experimenter,\n",
    "    institution=institution,\n",
    "    related_publications=doi_pub,\n",
    "    lab=lab_performance_center,\n",
    "    experiment_description=experiment_description,\n",
    "    stimulus_notes=stimulus_notes\n",
    ")\n"
   ],
   "metadata": {
    "collapsed": false,
    "pycharm": {
     "name": "#%%\n"
    }
   }
  },
  {
   "cell_type": "code",
   "execution_count": 19,
   "outputs": [],
   "source": [
    "#DATA ACQUISITION - OPTIONAL\n",
    "#ref: https://pynwb.readthedocs.io/en/stable/tutorials/domain/ophys.html\n",
    "\n",
    "device_name = 'Wide-field Microscope' #\n",
    "device_description1 = \"Zeiss SteREO Discovery.V8\"\n",
    "emission_filter = \"Chroma ZET 488/561m\" #part of 'device_description'\n",
    "dichoroic_mirror = \"Chroma 470dcxr\" #part of 'device_description'\n",
    "camera = \"Photometrics Prime 95B\" #part of 'device_description'\n",
    "camera_magnification = \"1.25x\" #part of 'device_description'\n",
    "camera_exposure_time = \"100 ms\" #part of 'device_description'\n",
    "device_mfg = \"Zeiss\"\n",
    "optical_ch_name1 = \"\"\n",
    "optical_ch_desc1 = \"Chroma ET470/40x\" #excitation filter\n",
    "optical_ch_name2 = \"Semrock FF01-560/14\" #excitation filter\n",
    "optical_ch_desc2 = \"\"\n",
    "imaging_plane_indicator1 = \"GCaMP\"\n",
    "imaging_plane_indicator2 = \"jRGECO\"\n",
    "optical_emission_lambda1 = 515 #wavelength in nm; float\n",
    "optical_emission_lambda2 = 590 #wavelength in nm; float\n",
    "imaging_plane_name1 = \"Thorlabs M470L4\"\n",
    "imaging_plane_name2 = \"Thorlabs M565L3 LED\"\n",
    "imaging_plane_rate1 = 5 #rate images are acquired, in Hz; float\n",
    "imaging_plane_rate2 = 5 #rate images are acquired, in Hz; float\n",
    "imaging_plane_description1 = \"alternating excitation\"\n",
    "imaging_plane_description2 = \"alternating excitation\"\n",
    "imaging_plane_excitation_lambda1 = 470 #wavelength in nm; float\n",
    "imaging_plane_excitation_lambda2 = 565 #wavelength in nm; float\n",
    "\n",
    "#COMPOSITE DESCRIPTION\n",
    "device_description = f'device_description: {device_description1}; emission_filter: {emission_filter}; dichoroic_mirror: {dichoroic_mirror}; camera: {camera}; camera_magnification: {camera_magnification}; camera_exposure_time: {camera_exposure_time}'\n",
    "\n",
    "device = nwbfile.create_device(\n",
    "    name=device_name,\n",
    "    description=device_description,\n",
    "    manufacturer=device_mfg\n",
    ")\n",
    "optical_channel1 = OpticalChannel(\n",
    "    name=optical_ch_name1,\n",
    "    description=optical_ch_desc1,\n",
    "    emission_lambda=float(optical_emission_lambda1)\n",
    ")\n",
    "optical_channel2 = OpticalChannel(\n",
    "    name=optical_ch_name1,\n",
    "    description=optical_ch_desc1,\n",
    "    emission_lambda=float(optical_emission_lambda1)\n",
    ")\n",
    "\n",
    "#need input from Jacob\n",
    "imaging_plane_indicator = imaging_plane_location = ''\n",
    "image_series1_name = 'NULL NAME 1'\n",
    "image_series2_name = 'NULL NAME 2'\n",
    "image_series1_rate = float(imaging_plane_rate1)\n",
    "\n",
    "image_series1_external_file = [\n",
    "'08.Jun.2022_19.19.34_JD220307M3_PwrG80R80_leftphot_0.14Hz_Parameters.mat',\n",
    "'08.Jun.2022_19.19.34_JD220307M3_PwrG80R80_leftphot_0.14Hzbeforepuff_neu_intp.fig',\n",
    "'08.Jun.2022_19.19.34_JD220307M3_PwrG80R80_leftphot_0.14Hzbeforepuff_ves_intp.fig',\n",
    "'08.Jun.2022_19.19.34_JD220307M3_PwrG80R80_leftphot_0.14Hzpuff_neu_intp.fig',\n",
    "'08.Jun.2022_19.19.34_JD220307M3_PwrG80R80_leftphot_0.14Hzpuff_ves_intp.fig',\n",
    "'08.Jun.2022_19.19.34_JD220307M3_PwrG80R80_leftphot_0.14Hzsvd_beforepuff_neurons_wave_intp.h5',\n",
    "'08.Jun.2022_19.19.34_JD220307M3_PwrG80R80_leftphot_0.14Hzsvd_beforepuff_neurons_wave.h5',\n",
    "'08.Jun.2022_19.19.34_JD220307M3_PwrG80R80_leftphot_0.14Hzsvd_beforepuff_neurons.mat',\n",
    "'08.Jun.2022_19.19.34_JD220307M3_PwrG80R80_leftphot_0.14Hzsvd_beforepuff_toplot_intp.mat',\n",
    "'08.Jun.2022_19.19.34_JD220307M3_PwrG80R80_leftphot_0.14Hzsvd_beforepuff_wave_intp.h5',\n",
    "'08.Jun.2022_19.19.34_JD220307M3_PwrG80R80_leftphot_0.14Hzsvd_beforepuff_wave.h5',\n",
    "'08.Jun.2022_19.19.34_JD220307M3_PwrG80R80_leftphot_0.14Hzsvd_beforepuff.mat',\n",
    "'08.Jun.2022_19.19.34_JD220307M3_PwrG80R80_leftphot_0.14Hzsvd_puff_neurons_wave_intp.h5',\n",
    "'08.Jun.2022_19.19.34_JD220307M3_PwrG80R80_leftphot_0.14Hzsvd_puff_neurons_wave.h5',\n",
    "'08.Jun.2022_19.19.34_JD220307M3_PwrG80R80_leftphot_0.14Hzsvd_puff_neurons.mat',\n",
    "'08.Jun.2022_19.19.34_JD220307M3_PwrG80R80_leftphot_0.14Hzsvd_puff_toplot_intp.mat',\n",
    "'08.Jun.2022_19.19.34_JD220307M3_PwrG80R80_leftphot_0.14Hzsvd_puff_wave_intp.h5',\n",
    "'08.Jun.2022_19.19.34_JD220307M3_PwrG80R80_leftphot_0.14Hzsvd_puff_wave.h5',\n",
    "'08.Jun.2022_19.19.34_JD220307M3_PwrG80R80_leftphot_0.14Hzsvd_puff.mat',\n",
    "'Mask.tif',\n",
    "'Mask1.tif',\n",
    "'rim.mat'\n",
    "]\n",
    "\n",
    "image_series2_external_file = ['Mask.tif',\n",
    "'Mask1.tif',\n",
    "'rim.mat'\n",
    "] #must be list of files\n",
    "\n",
    "# imaging_plane_indicator = \"GFP\"\n",
    "# imaging_plane_location = \"V1\"\n",
    "# imaging_plane_grid_spacing = [.01, .01]\n",
    "# imaging_plane_grid_spacing_unit = \"meters\"\n",
    "# imaging_plane_origin_coords = [1., 2., 3.]\n",
    "# imaging_plane_origin_coords_unit = \"meters\"\n",
    "# image_series1_name = 'TwoPhotonSeries1'\n",
    "# image_series1_dimension = [100, 100]\n",
    "# image_series1_external_file = ['images.tiff']\n",
    "# image_series1_starting_frame = [0]\n",
    "# image_series1_starting_time = 0.0\n",
    "# image_series1_rate = 1.0\n",
    "\n",
    "\n",
    "\n",
    "imaging_plane1 = nwbfile.create_imaging_plane(\n",
    "    name=imaging_plane_name1,\n",
    "    optical_channel=optical_channel1,\n",
    "    imaging_rate=float(imaging_plane_rate1),\n",
    "    description=imaging_plane_description1,\n",
    "    device=device,\n",
    "    excitation_lambda=float(imaging_plane_excitation_lambda1),\n",
    "    indicator=imaging_plane_indicator1,\n",
    "    location=imaging_plane_location\n",
    "    # grid_spacing=imaging_plane_grid_spacing,\n",
    "    # grid_spacing_unit=imaging_plane_grid_spacing_unit,\n",
    "    # origin_coords=imaging_plane_origin_coords,\n",
    "    # origin_coords_unit=imaging_plane_origin_coords_unit\n",
    ")\n",
    "image_series1 = TwoPhotonSeries(\n",
    "    name=image_series1_name,\n",
    "    # dimension=image_series1_dimension,\n",
    "    external_file=image_series1_external_file,\n",
    "    imaging_plane=imaging_plane1,\n",
    "    # starting_frame=image_series1_starting_frame,\n",
    "    format='external',\n",
    "    # starting_time=image_series1_starting_time,\n",
    "    rate=image_series1_rate\n",
    ")\n",
    "imaging_plane2 = nwbfile.create_imaging_plane(\n",
    "    name=imaging_plane_name2,\n",
    "    optical_channel=optical_channel2,\n",
    "    imaging_rate=float(imaging_plane_rate2),\n",
    "    description=imaging_plane_description2,\n",
    "    device=device,\n",
    "    excitation_lambda=float(imaging_plane_excitation_lambda2),\n",
    "    indicator=imaging_plane_indicator2,\n",
    "    location=imaging_plane_location,\n",
    "    # grid_spacing=imaging_plane_grid_spacing,\n",
    "    # grid_spacing_unit=imaging_plane_grid_spacing_unit,\n",
    "    # origin_coords=imaging_plane_origin_coords,\n",
    "    # origin_coords_unit=imaging_plane_origin_coords_unit\n",
    ")\n",
    "image_series2 = TwoPhotonSeries(\n",
    "    name=image_series2_name,\n",
    "    # dimension=image_series1_dimension,\n",
    "    external_file=image_series2_external_file,\n",
    "    imaging_plane=imaging_plane2,\n",
    "    # starting_frame=image_series1_starting_frame,\n",
    "    format='external',\n",
    "    # starting_time=image_series1_starting_time,\n",
    "    rate=image_series1_rate\n",
    ")\n",
    "nwbfile.add_acquisition(image_series1)\n",
    "nwbfile.add_acquisition(image_series2)"
   ],
   "metadata": {
    "collapsed": false,
    "pycharm": {
     "name": "#%%\n"
    }
   }
  },
  {
   "cell_type": "code",
   "execution_count": 20,
   "outputs": [],
   "source": [
    "#EXPERIMENTAL DESIGN - OPTIONAL\n",
    "animal_position_description = 'Head fixed'\n",
    "stimuli_description = 'Left eye light pulses at 0.14 Hz, 2 second pulse length, 10ms on/off bursts'\n",
    "trial_structure_description = 'Before-stim = 250 s  Stim = 500 s  After-stim = 250 s'\n",
    "nwbfile.add_trial_column(name='animal_position', description=animal_position_description)\n",
    "nwbfile.add_trial_column(name='stimuli', description=stimuli_description)\n",
    "nwbfile.add_trial_column(name='trial_structure', description=trial_structure_description)"
   ],
   "metadata": {
    "collapsed": false,
    "pycharm": {
     "name": "#%%\n"
    }
   }
  },
  {
   "cell_type": "code",
   "execution_count": 31,
   "outputs": [],
   "source": [
    "#NEURONAL ACTIVITY - OPTIONAL\n",
    "\n",
    "activity_measurements_modality = 'optical'\n",
    "activity_measurement_description = 'L2/3, L5 neuronal activity reported optically by the genetically encoded jRGECO calcium indicator under the Thy1 promoter'\n",
    "\n",
    "pynwb.misc.AnnotationSeries.name = f'activity_measurements_modality: {activity_measurements_modality}'\n",
    "pynwb.misc.AnnotationSeries.description = f'activity_measurement_description: {activity_measurement_description}'"
   ],
   "metadata": {
    "collapsed": false,
    "pycharm": {
     "name": "#%%\n"
    }
   }
  },
  {
   "cell_type": "code",
   "execution_count": 127,
   "outputs": [],
   "source": [
    "#DATA ACQUISITION - OPTIONAL\n",
    "ext_files_path = u\"/mnt/e/temp/rui/\"\n",
    "\n",
    "image_series_external_files = {}\n",
    "for root, dirs, files in os.walk(ext_files_path):\n",
    "    path = root.split(os.sep)\n",
    "    folder_name = os.path.basename(root)\n",
    "\n",
    "    image_series = []\n",
    "    for file in files:\n",
    "        file_name = file\n",
    "        c_time = os.path.getctime(os.path.join(ext_files_path, folder_name, file))\n",
    "        dt_creation_time = datetime.fromtimestamp(c_time)\n",
    "        creation_time = datetime.fromtimestamp(c_time)\n",
    "        #creation_time = dt_creation_time.strftime(\"%Y-%b-%d %H:%M:%S\")\n",
    "        image_series.append([os.path.join(folder_name, file_name), creation_time])\n",
    "    if len(folder_name) > 0:\n",
    "        image_series_external_files[folder_name] = image_series\n",
    "\n",
    "image_series = []\n",
    "for key, files in image_series_external_files.items():\n",
    "    description = f'{key}'\n",
    "    timestamp = files[1]\n",
    "    comments = f'FILES {len(files)}'\n",
    "\n",
    "    ext_files = []\n",
    "    ext_files_timestamps = []\n",
    "    for filename in files:\n",
    "        ext_files.append(files[0][0])\n",
    "        #ext_files_timestamps.append(files[0][1])\n",
    "        dt = datetime(2018, 10, 22, 0, 0)\n",
    "\n",
    "        timestamp = 1563907835.857213\n",
    "        ext_files_timestamps = np.arange(len(files)) + timestamp\n",
    "\n",
    "\n",
    "\n",
    "    image_series.append(ImageSeries(name=f'image_series_{description}',\n",
    "                                   external_file=ext_files,\n",
    "                                   starting_frame=[0],\n",
    "                                   timestamps=ext_files_timestamps,\n",
    "                                   format='external',\n",
    "                                   description=description,\n",
    "                                   comments=comments))\n",
    "for series in image_series:\n",
    "    nwbfile.add_acquisition(series)\n",
    "\n",
    "image_series"
   ],
   "metadata": {
    "collapsed": false,
    "pycharm": {
     "name": "#%%\n"
    }
   }
  },
  {
   "cell_type": "code",
   "execution_count": 62,
   "outputs": [
    {
     "name": "stdout",
     "output_type": "stream",
     "text": [
      "Written NWB file to /mnt/e/temp/08.Jun.2022_19.19.34_JD220307M3_PwrG80R80_leftphot_0.14Hz.nwb\n"
     ]
    }
   ],
   "source": [
    "#OUTPUT OF NWB FILE (COULD ALSO GO TO DATABASE)\n",
    "nwb_path = f\"/mnt/e/temp/{session_id}.nwb\"\n",
    "\n",
    "\n",
    "nwb_file_name = nwb_path\n",
    "with NWBHDF5IO(nwb_file_name, 'w') as io:\n",
    "    io.write(nwbfile)\n",
    "\n",
    "print(f\"Written NWB file to {nwb_file_name}\")"
   ],
   "metadata": {
    "collapsed": false,
    "pycharm": {
     "name": "#%%\n"
    }
   }
  },
  {
   "cell_type": "code",
   "execution_count": null,
   "outputs": [],
   "source": [
    "#VALIDATE NWB FILE\n",
    "\n",
    "#python -m nwb.validate filename.nwb"
   ],
   "metadata": {
    "collapsed": false,
    "pycharm": {
     "name": "#%%\n"
    }
   }
  }
 ],
 "metadata": {
  "kernelspec": {
   "name": "pipeline38",
   "language": "python",
   "display_name": "pipeline38"
  },
  "language_info": {
   "codemirror_mode": {
    "name": "ipython",
    "version": 2
   },
   "file_extension": ".py",
   "mimetype": "text/x-python",
   "name": "python",
   "nbconvert_exporter": "python",
   "pygments_lexer": "ipython2",
   "version": "2.7.6"
  }
 },
 "nbformat": 4,
 "nbformat_minor": 0
}